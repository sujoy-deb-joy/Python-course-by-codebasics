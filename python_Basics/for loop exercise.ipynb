{
 "cells": [
  {
   "cell_type": "markdown",
   "source": [
    "1. Write a Python program to print the following pattern.\n",
    "\n",
    "        1 2 3 4 5\n",
    "        1 2 3 4 \n",
    "        1 2 3\n",
    "        1 2\n",
    "        1\n"
   ],
   "metadata": {
    "collapsed": false
   },
   "id": "4bb912efd586c13b"
  },
  {
   "cell_type": "code",
   "outputs": [],
   "source": [
    "row = 6\n"
   ],
   "metadata": {
    "collapsed": false,
    "ExecuteTime": {
     "end_time": "2024-03-17T11:09:13.603101Z",
     "start_time": "2024-03-17T11:09:13.599489Z"
    }
   },
   "id": "e716abb65d611ee7",
   "execution_count": 41
  },
  {
   "cell_type": "code",
   "outputs": [
    {
     "name": "stdout",
     "output_type": "stream",
     "text": [
      "1 2 3 4 5 \n",
      "1 2 3 4 \n",
      "1 2 3 \n",
      "1 2 \n",
      "1 \n"
     ]
    }
   ],
   "source": [
    "for item in range(row, 1,-1):\n",
    "    for j in range(1,item):\n",
    "        print(j, end=' ')\n",
    "    print()    "
   ],
   "metadata": {
    "collapsed": false,
    "ExecuteTime": {
     "end_time": "2024-03-17T11:09:13.904649Z",
     "start_time": "2024-03-17T11:09:13.895779Z"
    }
   },
   "id": "fc90507d70bcb9a7",
   "execution_count": 42
  },
  {
   "cell_type": "markdown",
   "source": [
    "Write a Python program to find the sum of all the numbers except odd numbers between 1 and 20 using a loop. Can you also do this using a while loop?"
   ],
   "metadata": {
    "collapsed": false
   },
   "id": "a0d1a4724859af7"
  },
  {
   "cell_type": "code",
   "outputs": [
    {
     "name": "stdout",
     "output_type": "stream",
     "text": [
      "1\n",
      "3\n",
      "5\n",
      "7\n",
      "9\n",
      "11\n",
      "13\n",
      "15\n",
      "17\n",
      "19\n"
     ]
    },
    {
     "data": {
      "text/plain": "100"
     },
     "execution_count": 46,
     "metadata": {},
     "output_type": "execute_result"
    }
   ],
   "source": [
    "sum_of_numbers = 0\n",
    "for num in range(21):\n",
    "    if num % 2 != 0:\n",
    "        # print(num) \n",
    "        sum_of_numbers += num\n",
    "sum_of_numbers        "
   ],
   "metadata": {
    "collapsed": false,
    "ExecuteTime": {
     "end_time": "2024-03-17T11:19:07.353473Z",
     "start_time": "2024-03-17T11:19:07.342756Z"
    }
   },
   "id": "e4d6c486b8a285a8",
   "execution_count": 46
  },
  {
   "cell_type": "code",
   "outputs": [
    {
     "name": "stdout",
     "output_type": "stream",
     "text": [
      "100\n"
     ]
    }
   ],
   "source": [
    "sum_of_numbers  = 0\n",
    "num = 1\n",
    "while  num < 21:\n",
    "    if num % 2 != 0:\n",
    "        sum_of_numbers += num\n",
    "    num += 1\n",
    "print(sum_of_numbers)    "
   ],
   "metadata": {
    "collapsed": false,
    "ExecuteTime": {
     "end_time": "2024-03-17T11:25:46.746885Z",
     "start_time": "2024-03-17T11:25:46.739924Z"
    }
   },
   "id": "3b2a950581afab37",
   "execution_count": 51
  },
  {
   "cell_type": "code",
   "outputs": [
    {
     "name": "stdout",
     "output_type": "stream",
     "text": [
      "100\n"
     ]
    }
   ],
   "source": [
    "sum_of_numbers = 0\n",
    "for item in range(21):\n",
    "    if item % 2 == 0:\n",
    "        continue\n",
    "    sum_of_numbers += item\n",
    "    # print(item)\n",
    "print(sum_of_numbers)    "
   ],
   "metadata": {
    "collapsed": false,
    "ExecuteTime": {
     "end_time": "2024-03-17T11:28:23.918021Z",
     "start_time": "2024-03-17T11:28:23.912251Z"
    }
   },
   "id": "4aef551fbf6634ea",
   "execution_count": 54
  },
  {
   "cell_type": "markdown",
   "source": [
    "### 3. After throwing the dice several times, you got this result,\n",
    "\tdice_result  = [5,6,4,2,5,4,4,5,3,3,2,6,1,2,1,1,6,5]\n",
    "\n",
    "Using a for loop find out the followings:\n",
    "\n",
    "+ How many times you got 6s\n",
    "+ How many times you got 1s\n",
    "+ How many times you got 6s two times in row"
   ],
   "metadata": {
    "collapsed": false
   },
   "id": "19e19bfb861000a1"
  },
  {
   "cell_type": "code",
   "outputs": [
    {
     "data": {
      "text/plain": "[5, 6, 4, 2, 5, 4, 4, 5, 3, 3, 2, 6, 1, 2, 1, 1, 6, 6, 5]"
     },
     "execution_count": 66,
     "metadata": {},
     "output_type": "execute_result"
    }
   ],
   "source": [
    "dice_result  = [5,6,4,2,5,4,4,5,3,3,2,6,1,2,1,1,6,6,5]\n",
    "dice_result"
   ],
   "metadata": {
    "collapsed": false,
    "ExecuteTime": {
     "end_time": "2024-03-17T11:38:07.178873Z",
     "start_time": "2024-03-17T11:38:07.171276Z"
    }
   },
   "id": "42b2bd304ef38b3d",
   "execution_count": 66
  },
  {
   "cell_type": "code",
   "outputs": [
    {
     "data": {
      "text/plain": "4"
     },
     "execution_count": 67,
     "metadata": {},
     "output_type": "execute_result"
    }
   ],
   "source": [
    "six = 0\n",
    "for item in dice_result:\n",
    "    if item == 6:\n",
    "        six +=1\n",
    "six\n"
   ],
   "metadata": {
    "collapsed": false,
    "ExecuteTime": {
     "end_time": "2024-03-17T11:38:09.953195Z",
     "start_time": "2024-03-17T11:38:09.946655Z"
    }
   },
   "id": "2949a1207603dc6b",
   "execution_count": 67
  },
  {
   "cell_type": "code",
   "outputs": [
    {
     "data": {
      "text/plain": "3"
     },
     "execution_count": 68,
     "metadata": {},
     "output_type": "execute_result"
    }
   ],
   "source": [
    "ones = 0\n",
    "for item in dice_result:\n",
    "    if item == 1:\n",
    "        ones +=1\n",
    "ones        "
   ],
   "metadata": {
    "collapsed": false,
    "ExecuteTime": {
     "end_time": "2024-03-17T11:38:10.802715Z",
     "start_time": "2024-03-17T11:38:10.797165Z"
    }
   },
   "id": "66b2a139d81608b7",
   "execution_count": 68
  },
  {
   "cell_type": "code",
   "outputs": [],
   "source": [
    "consecutive_six = 0\n",
    "length = len(dice_result)\n",
    "for item in range(length-1):\n",
    "    if dice_result[item] == 6 and dice_result[item +1] ==6:\n",
    "        consecutive_six +=1"
   ],
   "metadata": {
    "collapsed": false,
    "ExecuteTime": {
     "end_time": "2024-03-17T11:38:13.818916Z",
     "start_time": "2024-03-17T11:38:13.814894Z"
    }
   },
   "id": "816c4b013c85e93",
   "execution_count": 69
  },
  {
   "cell_type": "code",
   "outputs": [
    {
     "data": {
      "text/plain": "1"
     },
     "execution_count": 70,
     "metadata": {},
     "output_type": "execute_result"
    }
   ],
   "source": [
    "consecutive_six"
   ],
   "metadata": {
    "collapsed": false,
    "ExecuteTime": {
     "end_time": "2024-03-17T11:38:14.465398Z",
     "start_time": "2024-03-17T11:38:14.456405Z"
    }
   },
   "id": "fb1098e2c342573b",
   "execution_count": 70
  },
  {
   "cell_type": "markdown",
   "source": [
    "4. Let's say you are doing push-ups and you have to complete 50 push-ups daily, write a program that,\\\n",
    "  i. Upon completing 10 push-ups in a go, asks you, “Are you tired?”\\\n",
    "  ii. If you reply “yes” or “y” then it should break and print “You did total     <total_pushups> push-ups.”\\\n",
    "  iii. For example: If you did only 30  push-ups and answered “yes” to your program. It will break the loop and print “You did total 30 push-ups”\n",
    "\n",
    "  iv. If you reply “no” or “n” then it should continue and display how many push-ups are remaining  now after that ask you again “Are you tired?”\n",
    "For Example: if you answered “no” then it should display that 20 push-ups are remaining and ask you again “Are you tired?”\n",
    "\n",
    "  v. If you complete all 50 push-ups, then it should print the “Congratulations! You made it” and stopped the program.\n"
   ],
   "metadata": {
    "collapsed": false
   },
   "id": "c834f02ac5d6b348"
  },
  {
   "cell_type": "code",
   "outputs": [
    {
     "name": "stdout",
     "output_type": "stream",
     "text": [
      "you completed 50 push ups\n"
     ]
    }
   ],
   "source": [
    "total_pushup = 50\n",
    "completed_pushup = 0\n",
    "\n",
    "for pup in range(total_pushup):\n",
    "    completed_pushup += 1\n",
    "    if completed_pushup == 10:\n",
    "        ans = input(\"Are you tired? \")\n",
    "        if ans == \"yes\" or ans == 'y':\n",
    "            break\n",
    "        if ans == \"no\" or ans == 'n':\n",
    "            continue\n",
    "        push_up_remain = total_pushup - completed_pushup\n",
    "        print(f'push_up remain: {push_up_remain}')\n",
    "        \n",
    "print(f'you completed {completed_pushup} push ups')\n",
    "            "
   ],
   "metadata": {
    "collapsed": false,
    "ExecuteTime": {
     "end_time": "2024-03-17T11:52:10.129703Z",
     "start_time": "2024-03-17T11:52:07.510896Z"
    }
   },
   "id": "cd0fad809d121fec",
   "execution_count": 80
  },
  {
   "cell_type": "code",
   "outputs": [
    {
     "name": "stdout",
     "output_type": "stream",
     "text": [
      "doing push ups\n",
      "doing push ups\n",
      "doing push ups\n",
      "doing push ups\n",
      "doing push ups\n",
      "doing push ups\n",
      "doing push ups\n",
      "doing push ups\n",
      "doing push ups\n",
      "doing push ups\n",
      "40 push-ups are remaining today.\n",
      "doing push ups\n",
      "39 push-ups are remaining today.\n",
      "doing push ups\n",
      "38 push-ups are remaining today.\n",
      "doing push ups\n",
      "37 push-ups are remaining today.\n",
      "doing push ups\n",
      "36 push-ups are remaining today.\n",
      "doing push ups\n",
      "35 push-ups are remaining today.\n",
      "doing push ups\n",
      "You did total 16 Push-ups today.\n"
     ]
    }
   ],
   "source": [
    "ans = ''''''\n",
    "push_up = 0\n",
    "while True:\n",
    "    print('doing push ups')\n",
    "    push_up += 1\n",
    "    if push_up == 50:\n",
    "        print('congrats! you completed 50 push ups')\n",
    "        break\n",
    "    if push_up >= 10:\n",
    "        ans = input(\"Are you tired? (yes/no)\")\n",
    "        if ans[0].lower() == 'y':\n",
    "            break\n",
    "        else:\n",
    "            print(f\"{50-push_up} push-ups are remaining today.\")\n",
    "\n",
    "print(f\"You did total {push_up} Push-ups today.\")            "
   ],
   "metadata": {
    "collapsed": false,
    "ExecuteTime": {
     "end_time": "2024-03-17T12:00:35.738825Z",
     "start_time": "2024-03-17T12:00:14.596320Z"
    }
   },
   "id": "1b5faade03907292",
   "execution_count": 81
  },
  {
   "cell_type": "code",
   "outputs": [],
   "source": [],
   "metadata": {
    "collapsed": false
   },
   "id": "fec910207e4d676d"
  },
  {
   "cell_type": "code",
   "outputs": [],
   "source": [],
   "metadata": {
    "collapsed": false
   },
   "id": "3ea9589d848c1b7e"
  }
 ],
 "metadata": {
  "kernelspec": {
   "display_name": "Python 3",
   "language": "python",
   "name": "python3"
  },
  "language_info": {
   "codemirror_mode": {
    "name": "ipython",
    "version": 2
   },
   "file_extension": ".py",
   "mimetype": "text/x-python",
   "name": "python",
   "nbconvert_exporter": "python",
   "pygments_lexer": "ipython2",
   "version": "2.7.6"
  }
 },
 "nbformat": 4,
 "nbformat_minor": 5
}
