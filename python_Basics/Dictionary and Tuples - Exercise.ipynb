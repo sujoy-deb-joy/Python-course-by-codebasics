{
 "cells": [
  {
   "cell_type": "markdown",
   "source": [
    "# 9 Dictionary and Tuples\n",
    "\n",
    "Excercise Solution"
   ],
   "metadata": {
    "collapsed": false
   },
   "id": "a9b6876eb91bfc22"
  },
  {
   "cell_type": "markdown",
   "source": [
    "### 1. Create a list of your friend’s name and now create a list of tuples. The tuple should contain the friend’s name and length of the name. For Example: if someone’s name is Aditya, the tuple would be: (‘Aditya’, 6)"
   ],
   "metadata": {
    "collapsed": false
   },
   "id": "3de9af830d6d10e2"
  },
  {
   "cell_type": "code",
   "outputs": [],
   "source": [
    "friends = ['Ajay', 'Akash', 'Sanjana', 'Sudhir', 'Vijay Kumar', 'setu', 'joy', 'warren']\n",
    "def list_of_tuples(friends_list):\n",
    "    friend_tuple = []\n",
    "    for friend in friends_list:\n",
    "        friend_details =  friend, len(friend)\n",
    "        friend_tuple.append(friend_details)\n",
    "    \n",
    "    return friend_tuple\n"
   ],
   "metadata": {
    "collapsed": false,
    "ExecuteTime": {
     "end_time": "2024-03-24T21:10:35.531981Z",
     "start_time": "2024-03-24T21:10:35.526892Z"
    }
   },
   "id": "3dab8a8ae0a5d08d",
   "execution_count": 4
  },
  {
   "cell_type": "code",
   "outputs": [
    {
     "data": {
      "text/plain": "[('Ajay', 4),\n ('Akash', 5),\n ('Sanjana', 7),\n ('Sudhir', 6),\n ('Vijay Kumar', 11),\n ('setu', 4),\n ('joy', 3),\n ('warren', 6)]"
     },
     "execution_count": 5,
     "metadata": {},
     "output_type": "execute_result"
    }
   ],
   "source": [
    "list_of_tuples(friends)"
   ],
   "metadata": {
    "collapsed": false,
    "ExecuteTime": {
     "end_time": "2024-03-24T21:10:36.271229Z",
     "start_time": "2024-03-24T21:10:36.263472Z"
    }
   },
   "id": "7c9e8c4b4579bc33",
   "execution_count": 5
  },
  {
   "cell_type": "markdown",
   "source": [
    "### 2.  You and your wife argued upon expenses last night. You both want to know who is spending more in a month. Now you both go to the Little Yoda he is a good python programmer, he suggested both of you to add an entry in a dictionary when next time you spent money. So that you can have clear picture about your expenses and plan to reduce it. Both dictionaries are as below-\n",
    "Your expenses - \n",
    "\n",
    "* Clothes - 1100\n",
    "* Shoes - 1000\n",
    "* Watch - 900\n",
    "* Mobile Recharge - 699\n",
    "* Petrol - 1980\n",
    "\n",
    "Your Wife’s expenses - \n",
    "* Mobile Recharge - 799\n",
    "* DTH recharge - 999\n",
    "* Clothes - 2310\n",
    "* Makeup - 3670\n",
    "* Shoes - 999\n",
    "\n",
    "A) Find out total expenses of each of you.\\\n",
    "B) Find out who spending more\\\n",
    "C) Find out in which thing you and your wife spending more \n",
    " \n"
   ],
   "metadata": {
    "collapsed": false
   },
   "id": "436cdc7ab58a1f71"
  },
  {
   "cell_type": "code",
   "outputs": [],
   "source": [
    "my_expenses = dict()\n",
    "wife_expenses = dict()"
   ],
   "metadata": {
    "collapsed": false,
    "ExecuteTime": {
     "end_time": "2024-03-24T21:16:25.976225Z",
     "start_time": "2024-03-24T21:16:25.971676Z"
    }
   },
   "id": "ce527e4ba23e1cb6",
   "execution_count": 21
  },
  {
   "cell_type": "code",
   "outputs": [],
   "source": [
    "# adding data to the dictionaries\n",
    "my_expenses['Clothes'] = 100\n",
    "my_expenses['Shoes'] = 1000\n",
    "my_expenses['Watch'] = 900\n",
    "my_expenses['Mobile Recharge'] = 699\n",
    "my_expenses['Petrol'] = 1980"
   ],
   "metadata": {
    "collapsed": false,
    "ExecuteTime": {
     "end_time": "2024-03-24T21:16:26.455830Z",
     "start_time": "2024-03-24T21:16:26.449927Z"
    }
   },
   "id": "8dace94b51507c17",
   "execution_count": 22
  },
  {
   "cell_type": "code",
   "outputs": [],
   "source": [
    "wife_expenses.update({\n",
    "    \"Mobile Recharge\" : 799,\n",
    "    \"DTH recharge\" : 999,\n",
    "    \"Clothes\" : 2310,\n",
    "    \"Makeup\" : 3670,\n",
    "    \"Shoes\" : 999\n",
    "})"
   ],
   "metadata": {
    "collapsed": false,
    "ExecuteTime": {
     "end_time": "2024-03-24T21:16:27.324969Z",
     "start_time": "2024-03-24T21:16:27.320582Z"
    }
   },
   "id": "b2d97142533a5f06",
   "execution_count": 23
  },
  {
   "cell_type": "code",
   "outputs": [],
   "source": [
    "total = 0\n",
    "for expense in my_expenses.values():\n",
    "    total += expense\n",
    "my_expenses['total'] = total    "
   ],
   "metadata": {
    "collapsed": false,
    "ExecuteTime": {
     "end_time": "2024-03-24T21:16:27.959045Z",
     "start_time": "2024-03-24T21:16:27.954712Z"
    }
   },
   "id": "dedd94788615e325",
   "execution_count": 24
  },
  {
   "cell_type": "code",
   "outputs": [
    {
     "data": {
      "text/plain": "4679"
     },
     "execution_count": 25,
     "metadata": {},
     "output_type": "execute_result"
    }
   ],
   "source": [
    "my_expenses['total']"
   ],
   "metadata": {
    "collapsed": false,
    "ExecuteTime": {
     "end_time": "2024-03-24T21:16:29.249833Z",
     "start_time": "2024-03-24T21:16:29.244665Z"
    }
   },
   "id": "8d8d2a685fbc98cd",
   "execution_count": 25
  },
  {
   "cell_type": "code",
   "outputs": [],
   "source": [
    "total = 0\n",
    "for expense in wife_expenses:\n",
    "    total += wife_expenses[expense]\n",
    "    \n",
    "wife_expenses['total'] = total    \n",
    "    "
   ],
   "metadata": {
    "collapsed": false,
    "ExecuteTime": {
     "end_time": "2024-03-24T21:18:51.446891Z",
     "start_time": "2024-03-24T21:18:51.443405Z"
    }
   },
   "id": "8aadaaf175f7db8d",
   "execution_count": 27
  },
  {
   "cell_type": "code",
   "outputs": [
    {
     "data": {
      "text/plain": "8777"
     },
     "execution_count": 28,
     "metadata": {},
     "output_type": "execute_result"
    }
   ],
   "source": [
    "wife_expenses['total']"
   ],
   "metadata": {
    "collapsed": false,
    "ExecuteTime": {
     "end_time": "2024-03-24T21:19:26.116633Z",
     "start_time": "2024-03-24T21:19:26.110498Z"
    }
   },
   "id": "d3cc6f44fed12286",
   "execution_count": 28
  },
  {
   "cell_type": "code",
   "outputs": [
    {
     "name": "stdout",
     "output_type": "stream",
     "text": [
      "Total expense of both : 13456\n"
     ]
    }
   ],
   "source": [
    "total_expsense = my_expenses['total'] + wife_expenses['total']\n",
    "print(f'Total expense of both : {total_expsense}')"
   ],
   "metadata": {
    "collapsed": false,
    "ExecuteTime": {
     "end_time": "2024-03-24T21:21:12.448603Z",
     "start_time": "2024-03-24T21:21:12.444009Z"
    }
   },
   "id": "d05ce8845e4465a6",
   "execution_count": 29
  },
  {
   "cell_type": "code",
   "outputs": [
    {
     "name": "stdout",
     "output_type": "stream",
     "text": [
      "you are spending more than you husband, you need to bring down the expenses\n"
     ]
    }
   ],
   "source": [
    "if my_expenses['total'] > my_expenses['total']:\n",
    "    print('you are spending more than your wife, you need to decrease your expenses')\n",
    "else:\n",
    "    print('you are spending more than you husband, you need to bring down the expenses')    \n",
    "    "
   ],
   "metadata": {
    "collapsed": false,
    "ExecuteTime": {
     "end_time": "2024-03-24T21:23:15.974818Z",
     "start_time": "2024-03-24T21:23:15.970329Z"
    }
   },
   "id": "1d86fbb95f1cff50",
   "execution_count": 30
  },
  {
   "cell_type": "code",
   "outputs": [],
   "source": [
    "def sort_the_expenses(dictionary):\n",
    "    sorted_dict = sorted(dictionary.items(), key=lambda item:item[1], reverse=True )\n",
    "    # sorted_dict = sorted(dictionary.values(), reverse=True)\n",
    "    # return  sorted_dict\n",
    "    return sorted_dict"
   ],
   "metadata": {
    "collapsed": false,
    "ExecuteTime": {
     "end_time": "2024-03-24T21:57:48.981949Z",
     "start_time": "2024-03-24T21:57:48.977672Z"
    }
   },
   "id": "5f94d55beb4a9b7a",
   "execution_count": 43
  },
  {
   "cell_type": "code",
   "outputs": [
    {
     "data": {
      "text/plain": "[('total', 4679),\n ('Petrol', 1980),\n ('Shoes', 1000),\n ('Watch', 900),\n ('Mobile Recharge', 699),\n ('Clothes', 100)]"
     },
     "execution_count": 50,
     "metadata": {},
     "output_type": "execute_result"
    }
   ],
   "source": [
    "sort_the_expenses(my_expenses)"
   ],
   "metadata": {
    "collapsed": false,
    "ExecuteTime": {
     "end_time": "2024-03-24T22:00:47.277789Z",
     "start_time": "2024-03-24T22:00:47.272504Z"
    }
   },
   "id": "eb48b2527b63c8ac",
   "execution_count": 50
  },
  {
   "cell_type": "code",
   "outputs": [
    {
     "data": {
      "text/plain": "('Petrol', 1980)"
     },
     "execution_count": 52,
     "metadata": {},
     "output_type": "execute_result"
    }
   ],
   "source": [
    "sort_the_expenses(my_expenses)[1]"
   ],
   "metadata": {
    "collapsed": false,
    "ExecuteTime": {
     "end_time": "2024-03-24T22:01:21.491594Z",
     "start_time": "2024-03-24T22:01:21.480836Z"
    }
   },
   "id": "93c48ca31576209b",
   "execution_count": 52
  },
  {
   "cell_type": "code",
   "outputs": [
    {
     "data": {
      "text/plain": "[('total', 8777),\n ('Makeup', 3670),\n ('Clothes', 2310),\n ('DTH recharge', 999),\n ('Shoes', 999),\n ('Mobile Recharge', 799)]"
     },
     "execution_count": 45,
     "metadata": {},
     "output_type": "execute_result"
    }
   ],
   "source": [
    "sort_the_expenses(wife_expenses)"
   ],
   "metadata": {
    "collapsed": false,
    "ExecuteTime": {
     "end_time": "2024-03-24T21:58:06.030869Z",
     "start_time": "2024-03-24T21:58:06.024894Z"
    }
   },
   "id": "3c4de4659eb63de3",
   "execution_count": 45
  },
  {
   "cell_type": "code",
   "outputs": [
    {
     "data": {
      "text/plain": "('Makeup', 3670)"
     },
     "execution_count": 53,
     "metadata": {},
     "output_type": "execute_result"
    }
   ],
   "source": [
    "sort_the_expenses(wife_expenses)[1]"
   ],
   "metadata": {
    "collapsed": false,
    "ExecuteTime": {
     "end_time": "2024-03-24T22:01:53.467680Z",
     "start_time": "2024-03-24T22:01:53.457896Z"
    }
   },
   "id": "18bf288db305109b",
   "execution_count": 53
  },
  {
   "cell_type": "code",
   "outputs": [],
   "source": [],
   "metadata": {
    "collapsed": false
   },
   "id": "56ad7196f9d50e34"
  }
 ],
 "metadata": {
  "kernelspec": {
   "display_name": "Python 3",
   "language": "python",
   "name": "python3"
  },
  "language_info": {
   "codemirror_mode": {
    "name": "ipython",
    "version": 2
   },
   "file_extension": ".py",
   "mimetype": "text/x-python",
   "name": "python",
   "nbconvert_exporter": "python",
   "pygments_lexer": "ipython2",
   "version": "2.7.6"
  }
 },
 "nbformat": 4,
 "nbformat_minor": 5
}
