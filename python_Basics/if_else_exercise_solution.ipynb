{
 "cells": [
  {
   "cell_type": "markdown",
   "source": [
    "# IF conditions"
   ],
   "metadata": {
    "collapsed": false
   },
   "id": "1a16027fd5ef8380"
  },
  {
   "cell_type": "markdown",
   "source": [
    "1. Write a program that can tell you your BMI Category.\n",
    "\n",
    "+ Ask user to enter height\n",
    "+ Ask user to enter weight\n",
    "+ Calculate the BMI(Body Mass Index = wight / height 2) and store it in a variable\n",
    "+ If the BMI is 30 or greater, print “Obesity”\n",
    "+ If the BMI is in between 25 and 29, print “Over Weight”\n",
    "+ If the BMI is in between 18.5 and 25, print “Normal”\n",
    "+ If the BMI is less than 18.5, print “Under Weight”\n"
   ],
   "metadata": {
    "collapsed": false
   },
   "id": "afe4f9624460625a"
  },
  {
   "cell_type": "code",
   "outputs": [],
   "source": [
    "height = input(\"Enter your height: \")\n",
    "height = float(height)\n",
    "weight = input(\"enter your weight: \")\n",
    "weight = float(weight)\n"
   ],
   "metadata": {
    "collapsed": false,
    "ExecuteTime": {
     "end_time": "2024-03-16T22:11:57.637570Z",
     "start_time": "2024-03-16T22:11:50.534756Z"
    }
   },
   "id": "41c6785e7f95b231",
   "execution_count": 23
  },
  {
   "cell_type": "code",
   "outputs": [
    {
     "data": {
      "text/plain": "0.002657312925170068"
     },
     "execution_count": 24,
     "metadata": {},
     "output_type": "execute_result"
    }
   ],
   "source": [
    "BMI = weight / (height * height)\n",
    "BMI"
   ],
   "metadata": {
    "collapsed": false,
    "ExecuteTime": {
     "end_time": "2024-03-16T22:11:59.450030Z",
     "start_time": "2024-03-16T22:11:59.441573Z"
    }
   },
   "id": "8f1444083e9fdc53",
   "execution_count": 24
  },
  {
   "cell_type": "code",
   "outputs": [
    {
     "name": "stdout",
     "output_type": "stream",
     "text": [
      "Underweight\n"
     ]
    }
   ],
   "source": [
    "if BMI > 30:\n",
    "    print(\"Obesity\")\n",
    "elif 25 < BMI < 29:   \n",
    "    print(\"Overweight\")    \n",
    "elif 18.5 < BMI < 25: \n",
    "    print(\"Normal\")\n",
    "elif BMI < 18.5:\n",
    "    print('Underweight')     "
   ],
   "metadata": {
    "collapsed": false,
    "ExecuteTime": {
     "end_time": "2024-03-16T22:12:00.811259Z",
     "start_time": "2024-03-16T22:12:00.806339Z"
    }
   },
   "id": "b56fc9c14e146078",
   "execution_count": 25
  },
  {
   "cell_type": "code",
   "outputs": [],
   "source": [],
   "metadata": {
    "collapsed": false
   },
   "id": "fdc958b1936a845c"
  },
  {
   "cell_type": "markdown",
   "source": [
    "2. Using the following list of cities per country,\n",
    "```python\n",
    "India = [\"Mumbai\", \"Bangalore\", \"Chennai\", \"Delhi\"]\n",
    "USA = [\"New York\",\"Chicago\",\"Las Vegas\", “San Francisco”]\n",
    "UK = [“London”, “Manchester”, “Liverpool”, “Nottingham”]\n",
    "```\n",
    "- Write a program that asks the user to enter a city name, and it should tell which country the city belongs to\n",
    "- Write a program that asks user to enter two cities, and it tells you if they both are in the same country or not. For example, if I enter Mumbai and Chennai, it will print \"Both cities are in India\" but if I enter Mumbai and New York it should print \"They don't belong to the same country\""
   ],
   "metadata": {
    "collapsed": false
   },
   "id": "a043c26154cf722a"
  },
  {
   "cell_type": "code",
   "outputs": [],
   "source": [
    "india = [\"Mumbai\", \"Bangalore\", \"Chennai\", \"Delhi\"]\n",
    "usa = [\"New York\", \"Chicago\", \"Las Vegas\", \"San Francisco\"]\n",
    "uk = [\"London\", \"Manchester\", \"Liverpool\", \"Nottingham\"]"
   ],
   "metadata": {
    "collapsed": false,
    "ExecuteTime": {
     "end_time": "2024-03-16T22:33:17.899190Z",
     "start_time": "2024-03-16T22:33:17.895222Z"
    }
   },
   "id": "b485ed2ad0aacee3",
   "execution_count": 27
  },
  {
   "cell_type": "code",
   "outputs": [
    {
     "name": "stdout",
     "output_type": "stream",
     "text": [
      "Mumbai belongs to India\n"
     ]
    }
   ],
   "source": [
    "city = input(\"Enter your city: \").capitalize()\n",
    "if city in india:\n",
    "    print(f\"{city} belongs to India\")\n",
    "elif city in usa:\n",
    "    print(f\"{city} belongs to usa\")    \n",
    "elif city in uk:\n",
    "    print(f\"{city} belongs to uk\")    \n",
    "else:\n",
    "    print(\"unknown city\")    "
   ],
   "metadata": {
    "collapsed": false,
    "ExecuteTime": {
     "end_time": "2024-03-16T22:35:21.717476Z",
     "start_time": "2024-03-16T22:35:18.848369Z"
    }
   },
   "id": "ddf7edfdc7f02887",
   "execution_count": 29
  },
  {
   "cell_type": "code",
   "outputs": [
    {
     "name": "stdout",
     "output_type": "stream",
     "text": [
      "both cities are in uk\n"
     ]
    }
   ],
   "source": [
    "city_1=input(\"Enter your first city\").capitalize()\n",
    "city_2=input(\"Enter your second city\").capitalize()\n",
    "if city_1 in india and city_2 in india:\n",
    "    print(\"both cities are in India\")\n",
    "elif city_1 in usa and city_2 in usa: \n",
    "    print(\"both cities are in usa\")\n",
    "elif city_1 in uk and city_2 in uk: \n",
    "    print(\"both cities are in uk\")   \n",
    "else:\n",
    "    print(\"They don't belong to the same country\")    "
   ],
   "metadata": {
    "collapsed": false,
    "ExecuteTime": {
     "end_time": "2024-03-16T22:41:23.408397Z",
     "start_time": "2024-03-16T22:41:13.259096Z"
    }
   },
   "id": "b7d18f9d0601c15d",
   "execution_count": 31
  },
  {
   "cell_type": "code",
   "outputs": [],
   "source": [],
   "metadata": {
    "collapsed": false
   },
   "id": "5e06d41ee6b06b92"
  }
 ],
 "metadata": {
  "kernelspec": {
   "display_name": "Python 3",
   "language": "python",
   "name": "python3"
  },
  "language_info": {
   "codemirror_mode": {
    "name": "ipython",
    "version": 2
   },
   "file_extension": ".py",
   "mimetype": "text/x-python",
   "name": "python",
   "nbconvert_exporter": "python",
   "pygments_lexer": "ipython2",
   "version": "2.7.6"
  }
 },
 "nbformat": 4,
 "nbformat_minor": 5
}
