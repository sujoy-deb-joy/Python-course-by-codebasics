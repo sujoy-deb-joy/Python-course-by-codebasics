{
 "cells": [
  {
   "cell_type": "markdown",
   "source": [
    "Write a python function to check if any given number is a prime number and odd number?"
   ],
   "metadata": {
    "collapsed": false
   },
   "id": "d1dccf9fc7200f61"
  },
  {
   "cell_type": "code",
   "outputs": [],
   "source": [
    "def check_is_prime(num):\n",
    "    \"\"\"Check if a number is Prime number\"\"\"\n",
    "    if num % 2 == 0:\n",
    "        return False\n",
    "    if num < 2: \n",
    "        return False   \n",
    "    for i in range(2, num // 2):\n",
    "        if num % i == 0:\n",
    "            return False\n",
    "    return  True   \n",
    "    \n",
    "            \n",
    "    "
   ],
   "metadata": {
    "collapsed": false,
    "ExecuteTime": {
     "end_time": "2024-03-17T14:09:04.417186Z",
     "start_time": "2024-03-17T14:09:04.413117Z"
    }
   },
   "id": "3c437f2ce5fb0529",
   "execution_count": 3
  },
  {
   "cell_type": "code",
   "outputs": [
    {
     "data": {
      "text/plain": "False"
     },
     "execution_count": 4,
     "metadata": {},
     "output_type": "execute_result"
    }
   ],
   "source": [
    "check_is_prime(1)"
   ],
   "metadata": {
    "collapsed": false,
    "ExecuteTime": {
     "end_time": "2024-03-17T14:09:04.777630Z",
     "start_time": "2024-03-17T14:09:04.769336Z"
    }
   },
   "id": "9a172c957f7511af",
   "execution_count": 4
  },
  {
   "cell_type": "code",
   "outputs": [
    {
     "data": {
      "text/plain": "False"
     },
     "execution_count": 5,
     "metadata": {},
     "output_type": "execute_result"
    }
   ],
   "source": [
    "check_is_prime(2)"
   ],
   "metadata": {
    "collapsed": false,
    "ExecuteTime": {
     "end_time": "2024-03-17T14:09:10.635698Z",
     "start_time": "2024-03-17T14:09:10.629468Z"
    }
   },
   "id": "ea029d62d8eaf952",
   "execution_count": 5
  },
  {
   "cell_type": "code",
   "outputs": [
    {
     "name": "stdout",
     "output_type": "stream",
     "text": [
      "1 False\n",
      "3 True\n",
      "5 True\n",
      "7 True\n",
      "9 False\n",
      "11 True\n",
      "13 True\n",
      "15 False\n",
      "17 True\n",
      "19 True\n",
      "21 False\n",
      "23 True\n",
      "25 False\n",
      "27 False\n",
      "29 True\n",
      "31 True\n",
      "33 False\n",
      "35 False\n",
      "37 True\n",
      "39 False\n",
      "41 True\n",
      "43 True\n",
      "45 False\n",
      "47 True\n",
      "49 False\n",
      "51 False\n",
      "53 True\n",
      "55 False\n",
      "57 False\n",
      "59 True\n",
      "61 True\n",
      "63 False\n",
      "65 False\n",
      "67 True\n",
      "69 False\n",
      "71 True\n",
      "73 True\n",
      "75 False\n",
      "77 False\n",
      "79 True\n",
      "81 False\n",
      "83 True\n",
      "85 False\n",
      "87 False\n",
      "89 True\n",
      "91 False\n",
      "93 False\n",
      "95 False\n",
      "97 True\n",
      "99 False\n"
     ]
    }
   ],
   "source": [
    "for i in range(1,100,2 ):\n",
    "    print(i, check_is_prime(i))"
   ],
   "metadata": {
    "collapsed": false,
    "ExecuteTime": {
     "end_time": "2024-03-17T14:10:48.910026Z",
     "start_time": "2024-03-17T14:10:48.903783Z"
    }
   },
   "id": "bd90d47f89c308bf",
   "execution_count": 8
  },
  {
   "cell_type": "markdown",
   "source": [
    "### 2. Write a python function which will take n as input and print the pattern of n rows. If the n is even, then print it flipped.\n",
    "\n",
    "Example: n=3\n",
    "        \n",
    "        *\n",
    "        * *\n",
    "        * * *\n",
    "\n",
    "n=4\n",
    "\n",
    "        * * * *\n",
    "        * * *\n",
    "        * *\n",
    "        *"
   ],
   "metadata": {
    "collapsed": false
   },
   "id": "fa8f790aa9b7c138"
  },
  {
   "cell_type": "code",
   "outputs": [],
   "source": [
    "def print_star_pattern(n):\n",
    "    if n % 2 !=0:\n",
    "        for i in range(n+1):\n",
    "            for j in range(i):\n",
    "                print('*', end = ' ')\n",
    "            print()    \n",
    "    else:\n",
    "        for i in range(n, 0, -1):\n",
    "            for j in range(i):\n",
    "                print('*', end=' ')\n",
    "            print()"
   ],
   "metadata": {
    "collapsed": false,
    "ExecuteTime": {
     "end_time": "2024-03-17T14:21:02.456991Z",
     "start_time": "2024-03-17T14:21:02.451910Z"
    }
   },
   "id": "60fb1011d1b83112",
   "execution_count": 28
  },
  {
   "cell_type": "code",
   "outputs": [
    {
     "name": "stdout",
     "output_type": "stream",
     "text": [
      "\n",
      "* \n",
      "* * \n",
      "* * * \n",
      "* * * * \n",
      "* * * * * \n",
      "* * * * * * \n",
      "* * * * * * * \n",
      "* * * * * * * * \n",
      "* * * * * * * * * \n",
      "* * * * * * * * * * \n",
      "* * * * * * * * * * * \n"
     ]
    }
   ],
   "source": [
    "print_star_pattern(11)"
   ],
   "metadata": {
    "collapsed": false,
    "ExecuteTime": {
     "end_time": "2024-03-17T14:21:09.639599Z",
     "start_time": "2024-03-17T14:21:09.633194Z"
    }
   },
   "id": "6fd7332d01505cce",
   "execution_count": 30
  },
  {
   "cell_type": "markdown",
   "source": [
    "### 3. Master Yoda speaks a sentence in a different order. Let's say you want to convert a sentence to Yoda’s speak.  Write a function named master_yoda which will take a string as input and return the output after reversing the words of the sentence."
   ],
   "metadata": {
    "collapsed": false
   },
   "id": "1514626cf2012437"
  },
  {
   "cell_type": "code",
   "outputs": [],
   "source": [
    "def master_yoda(string):\n",
    "    \"\"\"returns a revered string\"\"\"\n",
    "    string = string[::-1]\n",
    "    return string\n"
   ],
   "metadata": {
    "collapsed": false,
    "ExecuteTime": {
     "end_time": "2024-03-17T14:28:41.459599Z",
     "start_time": "2024-03-17T14:28:41.454204Z"
    }
   },
   "id": "efb824137b452ca6",
   "execution_count": 45
  },
  {
   "cell_type": "code",
   "outputs": [],
   "source": [
    "joy = (master_yoda('hello joy this is yoda speaking'))"
   ],
   "metadata": {
    "collapsed": false,
    "ExecuteTime": {
     "end_time": "2024-03-17T14:28:42.314905Z",
     "start_time": "2024-03-17T14:28:42.307859Z"
    }
   },
   "id": "bb15935bb0127d53",
   "execution_count": 46
  },
  {
   "cell_type": "code",
   "outputs": [
    {
     "name": "stdout",
     "output_type": "stream",
     "text": [
      "gnikaeps adoy si siht yoj olleh\n"
     ]
    }
   ],
   "source": [
    "print(joy)"
   ],
   "metadata": {
    "collapsed": false,
    "ExecuteTime": {
     "end_time": "2024-03-17T14:28:42.733237Z",
     "start_time": "2024-03-17T14:28:42.728491Z"
    }
   },
   "id": "9a47fa721eea729d",
   "execution_count": 47
  },
  {
   "cell_type": "code",
   "outputs": [],
   "source": [
    "def master_yoda(text):\n",
    "    words = []\n",
    "    for word in text.split(' '):\n",
    "        words.append(word)\n",
    "    terminater = ''\n",
    "    # If the sentence ends with a dot(.) \n",
    "    # we need to extract that \n",
    "    if words[-1].endswith('.') or words[-1].endswith('?'):\n",
    "        terminater = words[-1][-1]\n",
    "        words[-1] = words[-1][:-1]\n",
    "    words.reverse() # reversing the words    \n",
    "    new_text = ' '.join(words) \n",
    "    new_text = new_text + terminater\n",
    "    return new_text\n",
    "    \n",
    "    "
   ],
   "metadata": {
    "collapsed": false,
    "ExecuteTime": {
     "end_time": "2024-03-17T14:35:01.483118Z",
     "start_time": "2024-03-17T14:35:01.477519Z"
    }
   },
   "id": "41d5b46e6a7635c7",
   "execution_count": 48
  },
  {
   "cell_type": "code",
   "outputs": [
    {
     "data": {
      "text/plain": "'Python learning am I.'"
     },
     "execution_count": 49,
     "metadata": {},
     "output_type": "execute_result"
    }
   ],
   "source": [
    "master_yoda(\"I am learning Python.\")"
   ],
   "metadata": {
    "collapsed": false,
    "ExecuteTime": {
     "end_time": "2024-03-17T14:35:11.880157Z",
     "start_time": "2024-03-17T14:35:11.873684Z"
    }
   },
   "id": "e37f4c515e862444",
   "execution_count": 49
  },
  {
   "cell_type": "markdown",
   "source": [
    "### 4. Write a function pay_bill which will take list of expenses, percent commission, and a special offer amount\n",
    "* If you don’t pass percent_comission it should be always 9.8%\n",
    "* The Last argument special_offer_amount is not a required argument, you don’t need to pass is. Make it an optional parameter.\n",
    "* If you want to give a special offer to the user, then you have to pass the third argument special_offer_amount. If user makes the purchase of greater than special_offer_amount, then give him extra  commission of 1.2%.\n",
    "* Calculate the final payable price of the bill and return it from the function.\n"
   ],
   "metadata": {
    "collapsed": false
   },
   "id": "1d8f585c139e68df"
  },
  {
   "cell_type": "code",
   "outputs": [],
   "source": [
    "def pay_bill(expenses,percent_commission = 0.098, offer_amount = None ):\n",
    "    bill_amount = 0\n",
    "    for expense in expenses:\n",
    "        bill_amount += expense\n",
    "    # calculate extra commission percentage\n",
    "    extra_commission = 0\n",
    "    if offer_amount:\n",
    "        if bill_amount >= offer_amount:\n",
    "            extra_commission = 0.012\n",
    "            print(f'you have earned extra {offer_amount} commission')\n",
    "    # Calculate final payable amount\n",
    "    commission_amount = bill_amount * (extra_commission + percent_commission)\n",
    "    bill_amount = bill_amount - commission_amount\n",
    "    return bill_amount\n",
    "                "
   ],
   "metadata": {
    "collapsed": false,
    "ExecuteTime": {
     "end_time": "2024-03-17T14:54:24.272450Z",
     "start_time": "2024-03-17T14:54:24.267020Z"
    }
   },
   "id": "92135d14da57a88d",
   "execution_count": 56
  },
  {
   "cell_type": "code",
   "outputs": [
    {
     "data": {
      "text/plain": "1043.704"
     },
     "execution_count": 57,
     "metadata": {},
     "output_type": "execute_result"
    }
   ],
   "source": [
    "pay_bill([100, 145, 565, 322], 0.078)"
   ],
   "metadata": {
    "collapsed": false,
    "ExecuteTime": {
     "end_time": "2024-03-17T14:54:24.706259Z",
     "start_time": "2024-03-17T14:54:24.698715Z"
    }
   },
   "id": "c420367530a6cb28",
   "execution_count": 57
  },
  {
   "cell_type": "code",
   "outputs": [
    {
     "name": "stdout",
     "output_type": "stream",
     "text": [
      "you have earned extra 800 commission\n"
     ]
    },
    {
     "data": {
      "text/plain": "1334.4279999999999"
     },
     "execution_count": 58,
     "metadata": {},
     "output_type": "execute_result"
    }
   ],
   "source": [
    "pay_bill([200, 400, 86, 300, 500], 0.09, 800)"
   ],
   "metadata": {
    "collapsed": false,
    "ExecuteTime": {
     "end_time": "2024-03-17T14:54:26.178075Z",
     "start_time": "2024-03-17T14:54:26.170850Z"
    }
   },
   "id": "e4030109aa01f1ac",
   "execution_count": 58
  },
  {
   "cell_type": "code",
   "outputs": [
    {
     "name": "stdout",
     "output_type": "stream",
     "text": [
      "you have earned extra 900 commission\n"
     ]
    },
    {
     "data": {
      "text/plain": "1322.54"
     },
     "execution_count": 59,
     "metadata": {},
     "output_type": "execute_result"
    }
   ],
   "source": [
    "pay_bill([200, 400, 86, 300, 500], offer_amount=900)"
   ],
   "metadata": {
    "collapsed": false,
    "ExecuteTime": {
     "end_time": "2024-03-17T14:54:40.497734Z",
     "start_time": "2024-03-17T14:54:40.491398Z"
    }
   },
   "id": "f7208a4d9b9adbcf",
   "execution_count": 59
  },
  {
   "cell_type": "code",
   "outputs": [
    {
     "data": {
      "text/plain": "1337.4"
     },
     "execution_count": 60,
     "metadata": {},
     "output_type": "execute_result"
    }
   ],
   "source": [
    "pay_bill([200, 400, 86, 300, 500], percent_commission=0.1, offer_amount=1500)"
   ],
   "metadata": {
    "collapsed": false,
    "ExecuteTime": {
     "end_time": "2024-03-17T14:54:48.400314Z",
     "start_time": "2024-03-17T14:54:48.394303Z"
    }
   },
   "id": "cf75505c2e7db4b3",
   "execution_count": 60
  },
  {
   "cell_type": "code",
   "outputs": [],
   "source": [],
   "metadata": {
    "collapsed": false
   },
   "id": "e4041f7fc9c33b"
  }
 ],
 "metadata": {
  "kernelspec": {
   "display_name": "Python 3",
   "language": "python",
   "name": "python3"
  },
  "language_info": {
   "codemirror_mode": {
    "name": "ipython",
    "version": 2
   },
   "file_extension": ".py",
   "mimetype": "text/x-python",
   "name": "python",
   "nbconvert_exporter": "python",
   "pygments_lexer": "ipython2",
   "version": "2.7.6"
  }
 },
 "nbformat": 4,
 "nbformat_minor": 5
}
